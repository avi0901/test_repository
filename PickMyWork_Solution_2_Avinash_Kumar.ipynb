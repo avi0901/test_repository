{
 "cells": [
  {
   "cell_type": "code",
   "execution_count": 1,
   "id": "8161f91c",
   "metadata": {},
   "outputs": [
    {
     "name": "stdout",
     "output_type": "stream",
     "text": [
      "{'greetings': ['Hi', 'Hello', 'Hey', 'Good Morning', 'Good Night'], 'Information': ['about', ' What is', 'information', 'elaborate'], 'payment_query': ['payment', 'pay', 'paid', 'earn', 'money', 'amount', 'bank account'], 'leave': ['leave', 'holiday', 'absent', 'not present'], 'Documents': ['aadhaar', 'pan', 'photo', 'pdf', 'letter']}\n"
     ]
    }
   ],
   "source": [
    "import json\n",
    "json_data = '{\"greetings\": [\"Hi\", \"Hello\", \"Hey\", \"Good Morning\", \"Good Night\"],\"Information\": [\"about\", \" What is\", \"information\", \"elaborate\"],\"payment_query\": [\"payment\", \"pay\", \"paid\", \"earn\", \"money\", \"amount\", \"bank account\"],\"leave\": [\"leave\", \"holiday\", \"absent\", \"not present\"],\"Documents\": [\"aadhaar\", \"pan\", \"photo\", \"pdf\", \"letter\"]}'\n",
    "python_data = json.loads(json_data)\n",
    "print(python_data)"
   ]
  },
  {
   "cell_type": "code",
   "execution_count": 2,
   "id": "5b5e31d4",
   "metadata": {},
   "outputs": [],
   "source": [
    "def accurate_key(input_string, python_data):\n",
    "    ans = \"\"\n",
    "    for key in python_data:\n",
    "        value = python_data[key]\n",
    "        flag = False\n",
    "        for i in value:\n",
    "            if i.lower() in input_string.lower():\n",
    "                ans = key\n",
    "                flag = True\n",
    "                break\n",
    "        if flag:\n",
    "            break\n",
    "    if (ans == \"\"):\n",
    "        return \"Not Found\"\n",
    "    else:\n",
    "        return ans"
   ]
  },
  {
   "cell_type": "code",
   "execution_count": 3,
   "id": "4e173474",
   "metadata": {},
   "outputs": [],
   "source": [
    "###  INPUT EXAMPLES ###\n",
    "# I want to know about Avinash Kumar\n",
    "# When will i get payment in my bank account"
   ]
  },
  {
   "cell_type": "code",
   "execution_count": 4,
   "id": "130d1eaf",
   "metadata": {},
   "outputs": [
    {
     "name": "stdout",
     "output_type": "stream",
     "text": [
      "Please Input the String : I want to know about Avinash Kumar\n",
      "Accurate Key:  Information\n"
     ]
    }
   ],
   "source": [
    "input_string = input(\"Please Input the String : \")\n",
    "answer = accurate_key(input_string, python_data)\n",
    "print(\"Accurate Key: \", answer)"
   ]
  },
  {
   "cell_type": "code",
   "execution_count": 5,
   "id": "62ab5221",
   "metadata": {
    "scrolled": true
   },
   "outputs": [
    {
     "name": "stdout",
     "output_type": "stream",
     "text": [
      "Please Input the String : When will i get payment in my bank account\n",
      "Accurate Key:  payment_query\n"
     ]
    }
   ],
   "source": [
    "input_string = input(\"Please Input the String : \")\n",
    "answer = accurate_key(input_string, python_data)\n",
    "print(\"Accurate Key: \", answer)"
   ]
  }
 ],
 "metadata": {
  "kernelspec": {
   "display_name": "Python 3 (ipykernel)",
   "language": "python",
   "name": "python3"
  },
  "language_info": {
   "codemirror_mode": {
    "name": "ipython",
    "version": 3
   },
   "file_extension": ".py",
   "mimetype": "text/x-python",
   "name": "python",
   "nbconvert_exporter": "python",
   "pygments_lexer": "ipython3",
   "version": "3.8.8"
  }
 },
 "nbformat": 4,
 "nbformat_minor": 5
}
